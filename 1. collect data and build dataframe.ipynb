{
 "cells": [
  {
   "cell_type": "code",
   "execution_count": 68,
   "metadata": {},
   "outputs": [],
   "source": [
    "import requests\n",
    "import pandas as pd\n",
    "import os\n",
    "import numpy as np\n",
    "\n",
    "def download_and_save_data(url,save_filename):\n",
    "    r = requests.get(url, allow_redirects=True)#download csv file\n",
    "\n",
    "    #save string as a csv file\n",
    "    with open(save_filename, \"w\") as text_file:\n",
    "        print(r.text, file=text_file)\n",
    "        \n",
    "def add_network_information_to_df(df,net,suffix):\n",
    "    \n",
    "    net=net.loc[df['FIPS'],df['FIPS']] # select only counties present in the Corona data\n",
    "    \n",
    "    print(net.shape)\n",
    "    \n",
    "    net.columns = net.columns.astype('int').astype('str')#make FIPS code a string\n",
    "    net.columns = suffix + '_' + net.columns.values\n",
    "    \n",
    "    net = net.reset_index() # make own_county into a column for dataframe\n",
    "\n",
    "    print(net.shape)\n",
    "    \n",
    "    df=pd.merge(df,net,left_on='FIPS', right_on='own_county', how='inner')\n",
    "    df=df.drop('own_county',1)\n",
    "    \n",
    "    print(df.shape)\n",
    "\n",
    "    return df"
   ]
  },
  {
   "cell_type": "markdown",
   "metadata": {},
   "source": [
    "# Update the county-level cases of corona and death rates"
   ]
  },
  {
   "cell_type": "code",
   "execution_count": 69,
   "metadata": {},
   "outputs": [],
   "source": [
    "save_filename = \"county_corona_cases.csv\"\n",
    "url='https://static.usafacts.org/public/data/covid-19/covid_confirmed_usafacts.csv?_ga=2.56660078.575217947.1584705863-1986476536.1584542614'\n",
    "download_and_save_data(url,save_filename)\n",
    "\n",
    "save_filename = \"county_corona_deaths.csv\"\n",
    "url = 'https://static.usafacts.org/public/data/covid-19/covid_deaths_usafacts.csv?_ga=2.44956710.385475960.1585304312-1986476536.1584542614'\n",
    "download_and_save_data(url,save_filename)"
   ]
  },
  {
   "cell_type": "markdown",
   "metadata": {},
   "source": [
    "# Download county geographic adjacency matrix from Census Bureau"
   ]
  },
  {
   "cell_type": "code",
   "execution_count": 70,
   "metadata": {},
   "outputs": [],
   "source": [
    "url = 'https://www2.census.gov/geo/docs/reference/county_adjacency.txt'\n",
    "save_filename = \"geography_adj_tab.csv\"\n",
    "\n",
    "download_and_save_data(url,save_filename)"
   ]
  },
  {
   "cell_type": "markdown",
   "metadata": {},
   "source": [
    "# Start building dataframe with recorded COVID-19 cases"
   ]
  },
  {
   "cell_type": "code",
   "execution_count": 71,
   "metadata": {},
   "outputs": [
    {
     "name": "stderr",
     "output_type": "stream",
     "text": [
      "/Library/Python/3.7/site-packages/ipykernel_launcher.py:15: SettingWithCopyWarning: \n",
      "A value is trying to be set on a copy of a slice from a DataFrame\n",
      "\n",
      "See the caveats in the documentation: https://pandas.pydata.org/pandas-docs/stable/user_guide/indexing.html#returning-a-view-versus-a-copy\n",
      "  from ipykernel import kernelapp as app\n"
     ]
    },
    {
     "data": {
      "text/plain": [
       "(3145, 4)"
      ]
     },
     "execution_count": 71,
     "metadata": {},
     "output_type": "execute_result"
    }
   ],
   "source": [
    "corona = pd.read_csv('county_corona_cases.csv')\n",
    "corona = corona[corona.columns[[0,1,2,-37]]]\n",
    "\n",
    "#change column name for most recent measure of # cases\n",
    "cols=corona.columns.values\n",
    "cols[-1] = 'corona_cases'\n",
    "cols[0] = 'countyFIPS'\n",
    "corona.columns = cols\n",
    "\n",
    "corona = corona[corona['countyFIPS'] != 0] #remove cases not allocated to a county\n",
    "\n",
    "#incorrect FIPS code corrections\n",
    "FIPS = corona['countyFIPS']\n",
    "FIPS[FIPS == 49040] = 49049\n",
    "FIPS[FIPS == 20710] = 20107\n",
    "corona['countyFIPS'] = FIPS\n",
    "\n",
    "#corona = corona[corona['corona_cases'] > 0]\n",
    "#corona = corona.nlargest(500,'corona_cases')\n",
    "corona.shape"
   ]
  },
  {
   "cell_type": "markdown",
   "metadata": {},
   "source": [
    "# add COVID-19 death data"
   ]
  },
  {
   "cell_type": "code",
   "execution_count": 72,
   "metadata": {},
   "outputs": [
    {
     "name": "stderr",
     "output_type": "stream",
     "text": [
      "/Library/Python/3.7/site-packages/ipykernel_launcher.py:16: SettingWithCopyWarning: \n",
      "A value is trying to be set on a copy of a slice from a DataFrame\n",
      "\n",
      "See the caveats in the documentation: https://pandas.pydata.org/pandas-docs/stable/user_guide/indexing.html#returning-a-view-versus-a-copy\n",
      "  app.launch_new_instance()\n"
     ]
    },
    {
     "data": {
      "text/plain": [
       "(3145, 5)"
      ]
     },
     "execution_count": 72,
     "metadata": {},
     "output_type": "execute_result"
    }
   ],
   "source": [
    "death = pd.read_csv(\"county_corona_deaths.csv\")\n",
    "\n",
    "death = death[death.columns[[0,1,2,-27]]]\n",
    "\n",
    "#change column name for most recent measure of # cases\n",
    "cols=death.columns.values\n",
    "cols[-1] = 'corona_deaths'\n",
    "cols[0] = 'countyFIPS'\n",
    "death.columns = cols\n",
    "\n",
    "death = death[death['countyFIPS'] != 0] #remove cases not allocated to a county\n",
    "\n",
    "#incorrect FIPS code corrections\n",
    "FIPS = death['countyFIPS']\n",
    "FIPS[FIPS == 49040] = 49049\n",
    "FIPS[FIPS == 20710] = 20107\n",
    "death['countyFIPS'] = FIPS\n",
    "\n",
    "#death = death[death['corona_cases'] > 0]\n",
    "#corona = corona.nlargest(500,'corona_cases')\n",
    "corona = pd.merge(corona,death[['countyFIPS','corona_deaths']],left_on='countyFIPS', right_on='countyFIPS',how='inner')\n",
    "corona.shape"
   ]
  },
  {
   "cell_type": "markdown",
   "metadata": {},
   "source": [
    "# Download country-level presidential election result data from MIT election lab"
   ]
  },
  {
   "cell_type": "code",
   "execution_count": 73,
   "metadata": {},
   "outputs": [
    {
     "data": {
      "text/plain": [
       "(3114, 9)"
      ]
     },
     "execution_count": 73,
     "metadata": {},
     "output_type": "execute_result"
    }
   ],
   "source": [
    "\n",
    "politics = pd.read_csv('countypres_2000-2016.csv')\n",
    "\n",
    "politics = politics[politics['year'] == 2016]\n",
    "politics = politics[politics['party'].isin(['democrat','republican'])]\n",
    "politics['voteshare'] = politics['candidatevotes']/politics['totalvotes']\n",
    "#politics['voteshare_diff'] = politics.groupby(['state','FIPS'],as_index=True)['voteshare'].diff(-1) #* (-1)\n",
    "#politics = politics[['state','FIPS','voteshare_diff']].dropna()\n",
    "\n",
    "dem_votes = politics[politics['party'] == 'democrat']\n",
    "rep_votes = politics[politics['party'] == 'republican']\n",
    "\n",
    "votes = pd.merge(dem_votes[['FIPS','candidatevotes']],\n",
    "         rep_votes[['FIPS','candidatevotes']],\n",
    "         right_on='FIPS',left_on='FIPS')\n",
    "\n",
    "votes=votes.rename(columns={'candidatevotes_x': 'dem_votes',\n",
    "                     'candidatevotes_y': 'rep_votes'})\n",
    "\n",
    "\n",
    "politics = pd.merge(politics,dem_votes,left_on='FIPS',right_on='FIPS')[['FIPS','voteshare_y']]\n",
    "politics = politics.rename(columns={'voteshare_y':'dem_share'})\n",
    "\n",
    "politics = pd.merge(politics,rep_votes,left_on='FIPS',right_on='FIPS')[['FIPS','state','dem_share','voteshare']]\n",
    "politics = politics.rename(columns={'voteshare':'rep_share'})\n",
    "politics['voteshare_diff'] = politics['dem_share'] - politics['rep_share']\n",
    "politics['polarization'] = politics['voteshare_diff'].abs()\n",
    "\n",
    "politics=politics.drop_duplicates()\n",
    "\n",
    "politics = pd.merge(politics,votes,left_on='FIPS', right_on='FIPS')\n",
    "\n",
    "#join and select relevent columns\n",
    "df=pd.merge(corona,politics,left_on='countyFIPS',right_on='FIPS',how='inner')\n",
    "df = df[['FIPS','state','County Name','voteshare_diff','polarization','dem_share','rep_share','corona_cases','corona_deaths']]\n",
    "df.shape"
   ]
  },
  {
   "cell_type": "markdown",
   "metadata": {},
   "source": [
    "# Download data for proportion of people without health insurance from US Census Bureau "
   ]
  },
  {
   "cell_type": "code",
   "execution_count": 74,
   "metadata": {},
   "outputs": [
    {
     "name": "stderr",
     "output_type": "stream",
     "text": [
      "/Library/Python/3.7/site-packages/ipykernel_launcher.py:15: SettingWithCopyWarning: \n",
      "A value is trying to be set on a copy of a slice from a DataFrame\n",
      "\n",
      "See the caveats in the documentation: https://pandas.pydata.org/pandas-docs/stable/user_guide/indexing.html#returning-a-view-versus-a-copy\n",
      "  from ipykernel import kernelapp as app\n",
      "/Library/Python/3.7/site-packages/ipykernel_launcher.py:16: SettingWithCopyWarning: \n",
      "A value is trying to be set on a copy of a slice from a DataFrame\n",
      "\n",
      "See the caveats in the documentation: https://pandas.pydata.org/pandas-docs/stable/user_guide/indexing.html#returning-a-view-versus-a-copy\n",
      "  app.launch_new_instance()\n"
     ]
    },
    {
     "data": {
      "text/plain": [
       "(3114, 11)"
      ]
     },
     "execution_count": 74,
     "metadata": {},
     "output_type": "execute_result"
    }
   ],
   "source": [
    "health = pd.read_csv('SAHIE_25MAR20_13_22_18_92.csv')[['ID','Uninsured: %','Uninsured: Number']]\n",
    "health=health.rename(columns = {'ID' : 'FIPS','Uninsured: %' : 'prop_uninsured','Uninsured: Number' : 'num_uninsured'})\n",
    "\n",
    "import string \n",
    "\n",
    "## convert the messed up column to all floats (some are strings with commas)\n",
    "\n",
    "def remove_punctuation(s):\n",
    "    return s.translate(str.maketrans('', '', string.punctuation))\n",
    "\n",
    "num_insured = health['num_uninsured']\n",
    "for i in num_insured.index.values:\n",
    "    s = num_insured[i]\n",
    "\n",
    "    if type(s) == str: num_insured[i] = float(remove_punctuation(s))\n",
    "    else: num_insured[i] = float(s)\n",
    "        \n",
    "\n",
    "health['num_uninsured'] = num_insured.astype('float')*100\n",
    "\n",
    "df=pd.merge(df,health,left_on='FIPS',right_on='FIPS',how='inner')\n",
    "\n",
    "df.shape"
   ]
  },
  {
   "cell_type": "markdown",
   "metadata": {},
   "source": [
    "# Download data for proportions of obesity for counties from the CDC (2013 data)"
   ]
  },
  {
   "cell_type": "code",
   "execution_count": 75,
   "metadata": {},
   "outputs": [
    {
     "data": {
      "text/plain": [
       "(3110, 12)"
      ]
     },
     "execution_count": 75,
     "metadata": {},
     "output_type": "execute_result"
    }
   ],
   "source": [
    "obesity = pd.read_csv('Obesity_2013.csv')\n",
    "obesity = obesity.rename(columns={'region':'FIPS','value':'obesity'})\n",
    "df = pd.merge(df,obesity,left_on='FIPS',right_on='FIPS',how='inner')\n",
    "df.shape"
   ]
  },
  {
   "cell_type": "markdown",
   "metadata": {},
   "source": [
    "# Number of ICU beds available in each county from the Kaiser Health News website"
   ]
  },
  {
   "cell_type": "code",
   "execution_count": 76,
   "metadata": {},
   "outputs": [
    {
     "data": {
      "text/plain": [
       "(3110, 13)"
      ]
     },
     "execution_count": 76,
     "metadata": {},
     "output_type": "execute_result"
    }
   ],
   "source": [
    "ICU = pd.read_excel('KHN_ICU_bed_county_analysis_2.xlsx')\n",
    "ICU=ICU[['cnty_fips','all_icu']]\n",
    "ICU.columns= ['FIPS','ICU_beds']\n",
    "df = pd.merge(df,ICU,left_on='FIPS', right_on='FIPS')\n",
    "df.shape"
   ]
  },
  {
   "cell_type": "markdown",
   "metadata": {},
   "source": [
    "# Add per capita Facebook connectivity between U.S counties and foreign countries. Using the Facebook SCI (contact Facebook for access)"
   ]
  },
  {
   "cell_type": "code",
   "execution_count": 77,
   "metadata": {},
   "outputs": [
    {
     "data": {
      "text/plain": [
       "(3104, 20)"
      ]
     },
     "execution_count": 77,
     "metadata": {},
     "output_type": "execute_result"
    }
   ],
   "source": [
    "sci_country = pd.read_csv('County_Country.csv')\n",
    "\n",
    "sci_country = sci_country[sci_country['friend_country'].isin(['CN','IT','ES','DE','IR','KR','GB'])][['friend_country','own_county','sci_cntry']]\n",
    "sci_country = sci_country.pivot(index='own_county', columns='friend_country', values='sci_cntry')\n",
    "sci_country.columns = 'SCI_' + sci_country.columns.values\n",
    "sci_country = sci_country.reset_index()\n",
    "\n",
    "df=pd.merge(df,sci_country,left_on='FIPS',right_on='own_county',how='inner')\n",
    "df=df.drop('own_county',1)\n",
    "\n",
    "df.shape"
   ]
  },
  {
   "cell_type": "markdown",
   "metadata": {},
   "source": [
    "# Add country-level age data using US Census Bureau data"
   ]
  },
  {
   "cell_type": "code",
   "execution_count": 78,
   "metadata": {},
   "outputs": [
    {
     "data": {
      "text/plain": [
       "(3104, 21)"
      ]
     },
     "execution_count": 78,
     "metadata": {},
     "output_type": "execute_result"
    }
   ],
   "source": [
    "'''\n",
    "1 = Age 0 to 4 years\n",
    "2 = Age 5 to 9 years\n",
    "3 = Age 10 to 14 years\n",
    "4 = Age 15 to 19 years\n",
    "5 = Age 20 to 24 years\n",
    "6 = Age 25 to 29 years\n",
    "7 = Age 30 to 34 years\n",
    "8 = Age 35 to 39 years\n",
    "9 = Age 40 to 44 years\n",
    "10 = Age 45 to 49 years\n",
    "11 = Age 50 to 54 years\n",
    "12 = Age 55 to 59 years\n",
    "13 = Age 60 to 64 years\n",
    "14 = Age 65 to 69 years\n",
    "15 = Age 70 to 74 years\n",
    "16 = Age 75 to 79 years\n",
    "17 = Age 80 to 84 years\n",
    "18 = Age 85 years or older'''\n",
    "\n",
    "age=pd.read_csv('cc-est2018-alldata.csv', encoding = \"ISO-8859-1\") #load data\n",
    "\n",
    "#create combined FIPS code\n",
    "age['COUNTY'] = [a.zfill(3) for a in age['COUNTY'].astype('str')]\n",
    "age['STATE'] = [a.zfill(2) for a in age['STATE'].astype('str')]\n",
    "age['FIPS'] = (age['STATE'] + age['COUNTY']).astype(float)\n",
    "\n",
    "#age = age[['AGEGRP','TOT_POP']][age['AGEGRP'] == 1]\n",
    "age[['AGEGRP']] = age['AGEGRP']*5\n",
    "\n",
    "#only most recent year\n",
    "age = age[age['YEAR'] == age['YEAR'].max()]\n",
    "\n",
    "# create total-population column\n",
    "TOT_POP = age[age['AGEGRP'] == 0][['FIPS', 'TOT_POP']]\n",
    "age = age[age['AGEGRP'] != 0][['FIPS', 'AGEGRP', 'TOT_POP']]\n",
    "age=pd.merge(age,TOT_POP, left_on=['FIPS'], right_on=['FIPS'])\n",
    "\n",
    "#adjust age to mid point in age categories\n",
    "age['AGEGRP'] = age['AGEGRP'] - 2.5\n",
    "\n",
    "#proportion of people in each age category\n",
    "age['age_proportion'] = age['TOT_POP_x']/age['TOT_POP_y']\n",
    "\n",
    "#average age in each county\n",
    "age['mean_age'] = age['AGEGRP']*age['age_proportion']\n",
    "age=age.groupby(['FIPS'],as_index=False).sum()[['FIPS','mean_age']]\n",
    "\n",
    "#add age to dataframe\n",
    "df = pd.merge(df,age,left_on=['FIPS'], right_on=['FIPS'],how='inner')\n",
    "\n",
    "df.shape"
   ]
  },
  {
   "cell_type": "markdown",
   "metadata": {},
   "source": [
    "# add country-level population data from US Census Bureau"
   ]
  },
  {
   "cell_type": "code",
   "execution_count": 79,
   "metadata": {},
   "outputs": [
    {
     "data": {
      "text/plain": [
       "(3104, 23)"
      ]
     },
     "execution_count": 79,
     "metadata": {},
     "output_type": "execute_result"
    }
   ],
   "source": [
    "#get 2018 population estimates for counties\n",
    "population = pd.read_excel('PopulationEstimates.xls',skiprows=range(1),header=1)\n",
    "population = population[['FIPS', 'POP_ESTIMATE_2018','Rural-urban_Continuum Code_2013']]\n",
    "\n",
    "#change name of population column\n",
    "population = population.rename(columns={\"POP_ESTIMATE_2018\": \"population\",\n",
    "                                       'Rural-urban_Continuum Code_2013':'urban_rural'})\n",
    "\n",
    "#add population to dataframe\n",
    "df=pd.merge(df,population,left_on='FIPS',right_on='FIPS',how='inner')\n",
    "\n",
    "df.shape"
   ]
  },
  {
   "cell_type": "markdown",
   "metadata": {},
   "source": [
    "# add country-level population density, income and education data from US Census Bureau"
   ]
  },
  {
   "cell_type": "code",
   "execution_count": 80,
   "metadata": {},
   "outputs": [
    {
     "data": {
      "text/plain": [
       "(3104, 27)"
      ]
     },
     "execution_count": 80,
     "metadata": {},
     "output_type": "execute_result"
    }
   ],
   "source": [
    "density=pd.read_csv(\"DEC_10_SF1_GCTPH1.US05PR_with_ann.csv\", encoding = \"ISO-8859-1\",skiprows=1)\n",
    "density = density[['Target Geo Id2','Density per square mile of land area - Population','Density per square mile of land area - Housing units']]\n",
    "density.columns = ['FIPS','density_pop','density_house']\n",
    "\n",
    "df=pd.merge(df,density,left_on='FIPS',right_on='FIPS',how='inner')\n",
    "df.shape\n",
    "\n",
    "#add 2018 median incoem data to dataframe\n",
    "income = pd.read_excel('Unemployment.xls',skiprows=range(1),header=3)\n",
    "income = income[['FIPS', 'Median_Household_Income_2018']]\n",
    "income = income.rename(columns={\"Median_Household_Income_2018\": \"income\",})\n",
    "\n",
    "df=pd.merge(df,income,left_on='FIPS',right_on='FIPS',how='inner')\n",
    "df.shape\n",
    "\n",
    "#add 2018 median incoem data to dataframe\n",
    "education = pd.read_excel('Education.xls',skiprows=range(1),header=3)\n",
    "education = education[['FIPS Code', \"Percent of adults with a bachelor's degree or higher, 2014-18\"]]\n",
    "education = education.rename(columns={\"FIPS Code\":\"FIPS\", \"Percent of adults with a bachelor's degree or higher, 2014-18\": \"education\"})\n",
    "education['FIPS'] = education['FIPS'].astype('float')\n",
    "\n",
    "df=pd.merge(df,education,left_on='FIPS',right_on='FIPS',how='inner')\n",
    "df.shape"
   ]
  },
  {
   "cell_type": "markdown",
   "metadata": {},
   "source": [
    "# add geography adjacency network, US Census Bureau data "
   ]
  },
  {
   "cell_type": "code",
   "execution_count": 81,
   "metadata": {},
   "outputs": [
    {
     "name": "stdout",
     "output_type": "stream",
     "text": [
      "(3234, 3234)\n",
      "(3104, 3104)\n",
      "(3104, 3105)\n",
      "(3104, 3131)\n"
     ]
    },
    {
     "data": {
      "text/plain": [
       "(3104, 3131)"
      ]
     },
     "execution_count": 81,
     "metadata": {},
     "output_type": "execute_result"
    }
   ],
   "source": [
    "geo_adj = pd.read_csv('geography_adj_tab.csv',sep='\\t',header=None)[[1,3]].fillna(method='ffill')\n",
    "geo_adj.columns = ['own_county','neighbour_county']\n",
    "geo_adj['weight'] = 1\n",
    "\n",
    "geo_adj = geo_adj.pivot(index='own_county', columns='neighbour_county', values='weight').fillna(0)\n",
    "\n",
    "print(geo_adj.shape)\n",
    "\n",
    "df = add_network_information_to_df(df,geo_adj,suffix='geo')\n",
    "df.shape\n",
    "\n",
    "#geo_adj.head(8)"
   ]
  },
  {
   "cell_type": "markdown",
   "metadata": {},
   "source": [
    "# Add network of Facebook friends between each county pair using Facebook SCI data"
   ]
  },
  {
   "cell_type": "code",
   "execution_count": 82,
   "metadata": {},
   "outputs": [
    {
     "name": "stdout",
     "output_type": "stream",
     "text": [
      "(3104, 3104)\n",
      "(3104, 3105)\n",
      "(3104, 6235)\n"
     ]
    },
    {
     "data": {
      "text/plain": [
       "(3104, 6235)"
      ]
     },
     "execution_count": 82,
     "metadata": {},
     "output_type": "execute_result"
    }
   ],
   "source": [
    "#add SCI facebook data to df\n",
    "net = pd.read_csv('County_County.csv')\n",
    "\n",
    "# long version to wide version\n",
    "net = net[['own_county','friend_county','sci']].pivot(index='own_county', columns='friend_county', values='sci')\n",
    "df = add_network_information_to_df(df,net, suffix='net')\n",
    "df.shape\n",
    "\n",
    "#net.head(8)"
   ]
  },
  {
   "cell_type": "markdown",
   "metadata": {},
   "source": [
    "# save dataframe"
   ]
  },
  {
   "cell_type": "code",
   "execution_count": 83,
   "metadata": {},
   "outputs": [
    {
     "data": {
      "text/plain": [
       "(3104, 6235)"
      ]
     },
     "execution_count": 83,
     "metadata": {},
     "output_type": "execute_result"
    }
   ],
   "source": [
    "#make FIPS code a string\n",
    "df['FIPS'] = df['FIPS'].astype('int').astype('str')\n",
    "\n",
    "#save to csv\n",
    "df.to_csv('county_level_df',index=False)\n",
    "df.shape"
   ]
  },
  {
   "cell_type": "code",
   "execution_count": 84,
   "metadata": {},
   "outputs": [
    {
     "data": {
      "text/plain": [
       "(3104, 6235)"
      ]
     },
     "execution_count": 84,
     "metadata": {},
     "output_type": "execute_result"
    }
   ],
   "source": [
    "df.shape"
   ]
  },
  {
   "cell_type": "code",
   "execution_count": null,
   "metadata": {},
   "outputs": [],
   "source": []
  }
 ],
 "metadata": {
  "kernelspec": {
   "display_name": "Python 3",
   "language": "python",
   "name": "python3"
  },
  "language_info": {
   "codemirror_mode": {
    "name": "ipython",
    "version": 3
   },
   "file_extension": ".py",
   "mimetype": "text/x-python",
   "name": "python",
   "nbconvert_exporter": "python",
   "pygments_lexer": "ipython3",
   "version": "3.7.3"
  }
 },
 "nbformat": 4,
 "nbformat_minor": 4
}
